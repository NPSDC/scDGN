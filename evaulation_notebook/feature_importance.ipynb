{
 "cells": [
  {
   "cell_type": "code",
   "execution_count": 1,
   "metadata": {},
   "outputs": [],
   "source": [
    "import os\n",
    "import numpy as np\n",
    "import torch\n",
    "import torch.nn as nn\n",
    "import torch.optim as optim\n",
    "import torch.nn.functional as F\n",
    "import matplotlib.pyplot as plt\n",
    "from sklearn.decomposition import PCA\n",
    "from sklearn.manifold import TSNE\n",
    "from torch.autograd import Variable\n",
    "from tqdm import tqdm, trange\n",
    "from train import ClassicTrainer, ClassicTrainer_feature, ADGTrainer, NNL2Trainer\n",
    "from data_fetcher import dataset, dataset_CADG, dataset_test_only\n",
    "\n",
    "cell_names = [' '.join(line.split('-')[0].split()[1:]) for line in open('/home/songweig/sc/code/name2id39.txt').readlines()]\n"
   ]
  },
  {
   "cell_type": "markdown",
   "metadata": {},
   "source": [
    "## NN and CDGN"
   ]
  },
  {
   "cell_type": "code",
   "execution_count": 42,
   "metadata": {
    "scrolled": false
   },
   "outputs": [
    {
     "name": "stdout",
     "output_type": "stream",
     "text": [
      "DANN_Siamese(\n",
      "  (feature_extractor): Sequential(\n",
      "    (0): Linear(in_features=20499, out_features=1136, bias=True)\n",
      "    (1): Tanh()\n",
      "    (2): Linear(in_features=1136, out_features=100, bias=True)\n",
      "    (3): Tanh()\n",
      "  )\n",
      "  (domain_classifier): Sequential(\n",
      "    (0): Linear(in_features=100, out_features=40, bias=True)\n",
      "  )\n",
      "  (label_classifier): Sequential(\n",
      "    (0): Linear(in_features=100, out_features=39, bias=True)\n",
      "  )\n",
      ")\n",
      "ClassicNN(\n",
      "  (h1): Sequential(\n",
      "    (0): Linear(in_features=20499, out_features=1136, bias=True)\n",
      "    (1): Tanh()\n",
      "  )\n",
      "  (h2): Sequential(\n",
      "    (0): Linear(in_features=1136, out_features=100, bias=True)\n",
      "    (1): Tanh()\n",
      "  )\n",
      "  (o): Sequential(\n",
      "    (0): Linear(in_features=100, out_features=39, bias=True)\n",
      "  )\n",
      ")\n"
     ]
    }
   ],
   "source": [
    "#################### Settings ##############################\n",
    "num_epochs = 100\n",
    "batch_size = 256\n",
    "dim1 = 1136\n",
    "dim2 = 100\n",
    "d_dim = 20499\n",
    "dim_label = 39\n",
    "dataset_name = 39\n",
    "dim_domain = 40\n",
    "data_path = '../processed_data'\n",
    "model_path = '/home/songweig/sc/results/models/0413'\n",
    "os.environ[\"CUDA_DEVICE_ORDER\"]=\"PCI_BUS_ID\"\n",
    "os.environ[\"CUDA_VISIBLE_DEVICES\"]=\"1\"\n",
    "#################### Settings ##############################\n",
    "\n",
    "# d_NN = dataset(data_path, batch_size, label_size=dim_label,dataset_name=dataset_name, validation=False)\n",
    "# d_CDGN = dataset_CADG(data_path, batch_size, label_size=dim_label,dataset_name=dataset_name, validation=False)\n",
    "\n",
    "model_path = '../results/models/0413'\n",
    "NN_name = 'ClassicNN_6_0.2268.pyt'\n",
    "CDGN_name = 'CDANN_0.02_17_0.3220_1.pyt'\n",
    "# model_path = '../results/models/pancreas'\n",
    "# NN_name = 'CDANN_pancreas_classicNN_d20.9980_0.7179_8.pyt'\n",
    "# CDGN_name = 'CDANN_pancreas_d2_0.2_1_0.9831_0.8934_4.pyt'\n",
    "\n",
    "log = dict()\n",
    "t_CDGN = ADGTrainer(d_dim, 5, 0.05, dim1, dim2, dim_label, dim_domain, num_epochs, batch_size, use_gpu=True)\n",
    "t_NN = ClassicTrainer(d_dim, dim1, dim2, dim_label, num_epochs, batch_size, use_gpu=True)\n",
    "\n",
    "t_NN.dataset = d_NN\n",
    "t_NN.D.load_state_dict(torch.load(os.path.join(model_path, NN_name)))\n",
    "t_CDGN.dataset = d_CDGN\n",
    "t_CDGN.D.load_state_dict(torch.load(os.path.join(model_path, CDGN_name)))\n",
    "\n",
    "gene_names = np.load('/home/songweig/sc/processed_data/gene_symbols_0413.npy')\n",
    "cell_names = [' '.join(line.split('-')[0].split()[1:]) for line in open('/home/songweig/sc/code/name2id39.txt').readlines()]\n",
    "# gene_names = [line.split(',')[1].strip('\"\\n') for line in open('/home/songweig/sc/processed_data/genename_pancreas.csv')][1:]\n",
    "# cell_names = [line.split('-')[0] for line in open('/home/songweig/sc/code/name2id13.txt').readlines()]"
   ]
  },
  {
   "cell_type": "code",
   "execution_count": 49,
   "metadata": {
    "scrolled": true
   },
   "outputs": [],
   "source": [
    "# extract the mean expression values\n",
    "n_genes = 100\n",
    "out_path = '/home/songweig/sc/results/GO/0413'\n",
    "for cate_id in range(39):\n",
    "    counts = 0.\n",
    "#     mean_value_ori = t_CDGN.dataset._train_X.mean(0)\n",
    "    mean_value_ori = np.zeros(20499)\n",
    "    # for x, _, y, _, _, _, _ in t_CDGN.dataset.train_data():\n",
    "    #     ids = np.where(y==cate_id)[0]\n",
    "    #     counts += ids.shape[0]\n",
    "    #     mean_value += x[ids].sum(0)\n",
    "\n",
    "    # mean_value_ori = mean_value/counts\n",
    "    # mean_value_ori = np.zeros(3000)\n",
    "\n",
    "    # analysis NN: backpropogate the gradient of beta and quiescent_stellate \n",
    "    mean_value = np.copy(mean_value_ori)\n",
    "    resulted_values_NN = []\n",
    "    for i in range(100):\n",
    "        t_NN.D.zero_grad()\n",
    "        mean_value_variable = Variable(torch.Tensor(mean_value).view(1, -1).cuda(), requires_grad=True)\n",
    "        act_value = t_NN.D.forward(mean_value_variable)\n",
    "    #     act_value = torch.softmax(act_value, 1)\n",
    "        diff_out = act_value[:,cate_id:cate_id+1]\n",
    "        diff_out.backward()\n",
    "        mean_value_variable.data.add_(mean_value_variable.grad.data)\n",
    "        mean_value = mean_value_variable.data.cpu().numpy()\n",
    "        resulted_values_NN.append(mean_value)\n",
    "\n",
    "    # analysis CDGNN: backpropogate the gradient of beta and quiescent_stellate \n",
    "    mean_value = np.copy(mean_value_ori)\n",
    "    resulted_values_CDGN = []\n",
    "    for i in range(100):\n",
    "        t_CDGN.D.zero_grad()\n",
    "        mean_value_variable = Variable(torch.Tensor(mean_value).view(1, -1).cuda(), requires_grad=True)\n",
    "        act_value, _, _ = t_CDGN.D.forward(mean_value_variable, mean_value_variable)\n",
    "    #     act_value = torch.softmax(act_value, 1)\n",
    "        diff_out = act_value[:,cate_id:cate_id+1]\n",
    "        diff_out.backward()\n",
    "        mean_value_variable.data.add_(mean_value_variable.grad.data)\n",
    "        mean_value = mean_value_variable.data.cpu().numpy()\n",
    "        resulted_values_CDGN.append(mean_value)\n",
    "\n",
    "    # save DE gene names \n",
    "    cell_type = cell_names[cate_id]\n",
    "    with open(os.path.join(out_path, 'NN_%s_%d.txt'%(cell_type, n_genes)), 'w') as fw:\n",
    "        diff_NN = (resulted_values_NN[-1]-mean_value_ori)[0]\n",
    "        diff_NN_ids = np.abs(diff_NN).argsort()[-n_genes:][::-1]\n",
    "        for index in diff_NN_ids:\n",
    "    #         fw.write('%s\\t%.4f\\n'%(gene_names[index], diff_NN[index]))\n",
    "            fw.write('%s\\n'%(gene_names[index]))\n",
    "\n",
    "    with open(os.path.join(out_path, 'CDGN_%s_%d.txt'%(cell_type, n_genes)), 'w') as fw:\n",
    "        diff_CDGN = (resulted_values_CDGN[-1]-mean_value_ori)[0]\n",
    "        diff_CDGN_ids = np.abs(diff_CDGN).argsort()[-n_genes:][::-1]\n",
    "        for index in diff_CDGN_ids:\n",
    "    #         fw.write('%s\\t%.4f\\n'%(gene_names[index], diff_CDGN[index]))\n",
    "            fw.write('%s\\n'%(gene_names[index]))\n",
    "\n",
    "    with open(os.path.join(out_path, 'Diff_%s_%d.txt'%(cell_type, n_genes)), 'w') as fw:\n",
    "        diff_ids = np.setdiff1d(diff_CDGN_ids, diff_NN_ids)\n",
    "        for index in diff_ids:\n",
    "            fw.write('%s\\n'%(gene_names[index]))"
   ]
  },
  {
   "cell_type": "code",
   "execution_count": 48,
   "metadata": {},
   "outputs": [
    {
     "data": {
      "text/plain": [
       "(37697,)"
      ]
     },
     "execution_count": 48,
     "metadata": {},
     "output_type": "execute_result"
    }
   ],
   "source": [
    "t_NN.dataset._train_y.shape"
   ]
  },
  {
   "cell_type": "code",
   "execution_count": 18,
   "metadata": {},
   "outputs": [
    {
     "data": {
      "text/plain": [
       "tensor(-4.5405, device='cuda:0')"
      ]
     },
     "execution_count": 18,
     "metadata": {},
     "output_type": "execute_result"
    }
   ],
   "source": [
    "t_CDGN.D.zero_grad()\n",
    "t_NN.D.zero_grad()\n",
    "mean_value_variable = Variable(torch.Tensor(mean_value).view(1, -1).cuda(), requires_grad=True)\n",
    "act_value, _, _ = t_CDGN.D.forward(mean_value_variable, mean_value_variable)\n",
    "act_value.norm(1).backward()\n",
    "mean_value_variable.grad.data.sum()"
   ]
  },
  {
   "cell_type": "code",
   "execution_count": 5,
   "metadata": {
    "scrolled": true
   },
   "outputs": [
    {
     "name": "stdout",
     "output_type": "stream",
     "text": [
      "0 (200,) (200,)\n",
      "1 (43,) (61,)\n",
      "2 (17,) (20,)\n",
      "3 (5,) (9,)\n",
      "4 (2,) (5,)\n",
      "5 (1,) (3,)\n",
      "6 (0,) (2,)\n",
      "7 (0,) (1,)\n"
     ]
    },
    {
     "ename": "KeyboardInterrupt",
     "evalue": "",
     "output_type": "error",
     "traceback": [
      "\u001b[0;31m---------------------------------------------------------------------------\u001b[0m",
      "\u001b[0;31mKeyboardInterrupt\u001b[0m                         Traceback (most recent call last)",
      "\u001b[0;32m<ipython-input-5-81974b1ffab3>\u001b[0m in \u001b[0;36m<module>\u001b[0;34m\u001b[0m\n\u001b[1;32m     26\u001b[0m     \u001b[0;31m#     act_value = torch.softmax(act_value, 1)\u001b[0m\u001b[0;34m\u001b[0m\u001b[0;34m\u001b[0m\u001b[0;34m\u001b[0m\u001b[0m\n\u001b[1;32m     27\u001b[0m         \u001b[0mdiff_out\u001b[0m \u001b[0;34m=\u001b[0m \u001b[0mact_value\u001b[0m\u001b[0;34m[\u001b[0m\u001b[0;34m:\u001b[0m\u001b[0;34m,\u001b[0m\u001b[0mcate_id\u001b[0m\u001b[0;34m:\u001b[0m\u001b[0mcate_id\u001b[0m\u001b[0;34m+\u001b[0m\u001b[0;36m1\u001b[0m\u001b[0;34m]\u001b[0m\u001b[0;34m\u001b[0m\u001b[0;34m\u001b[0m\u001b[0m\n\u001b[0;32m---> 28\u001b[0;31m         \u001b[0mdiff_out\u001b[0m\u001b[0;34m.\u001b[0m\u001b[0mbackward\u001b[0m\u001b[0;34m(\u001b[0m\u001b[0;34m)\u001b[0m\u001b[0;34m\u001b[0m\u001b[0;34m\u001b[0m\u001b[0m\n\u001b[0m\u001b[1;32m     29\u001b[0m         \u001b[0mmean_value_variable\u001b[0m\u001b[0;34m.\u001b[0m\u001b[0mdata\u001b[0m\u001b[0;34m.\u001b[0m\u001b[0madd_\u001b[0m\u001b[0;34m(\u001b[0m\u001b[0mmean_value_variable\u001b[0m\u001b[0;34m.\u001b[0m\u001b[0mgrad\u001b[0m\u001b[0;34m.\u001b[0m\u001b[0mdata\u001b[0m\u001b[0;34m)\u001b[0m\u001b[0;34m\u001b[0m\u001b[0;34m\u001b[0m\u001b[0m\n\u001b[1;32m     30\u001b[0m         \u001b[0mmean_value\u001b[0m \u001b[0;34m=\u001b[0m \u001b[0mmean_value_variable\u001b[0m\u001b[0;34m.\u001b[0m\u001b[0mdata\u001b[0m\u001b[0;34m.\u001b[0m\u001b[0mcpu\u001b[0m\u001b[0;34m(\u001b[0m\u001b[0;34m)\u001b[0m\u001b[0;34m.\u001b[0m\u001b[0mnumpy\u001b[0m\u001b[0;34m(\u001b[0m\u001b[0;34m)\u001b[0m\u001b[0;34m\u001b[0m\u001b[0;34m\u001b[0m\u001b[0m\n",
      "\u001b[0;32m~/anaconda2/envs/sc/lib/python3.6/site-packages/torch/tensor.py\u001b[0m in \u001b[0;36mbackward\u001b[0;34m(self, gradient, retain_graph, create_graph)\u001b[0m\n\u001b[1;32m    100\u001b[0m                 \u001b[0mproducts\u001b[0m\u001b[0;34m.\u001b[0m \u001b[0mDefaults\u001b[0m \u001b[0mto\u001b[0m\u001b[0;31m \u001b[0m\u001b[0;31m`\u001b[0m\u001b[0;31m`\u001b[0m\u001b[0;32mFalse\u001b[0m\u001b[0;31m`\u001b[0m\u001b[0;31m`\u001b[0m\u001b[0;34m.\u001b[0m\u001b[0;34m\u001b[0m\u001b[0;34m\u001b[0m\u001b[0m\n\u001b[1;32m    101\u001b[0m         \"\"\"\n\u001b[0;32m--> 102\u001b[0;31m         \u001b[0mtorch\u001b[0m\u001b[0;34m.\u001b[0m\u001b[0mautograd\u001b[0m\u001b[0;34m.\u001b[0m\u001b[0mbackward\u001b[0m\u001b[0;34m(\u001b[0m\u001b[0mself\u001b[0m\u001b[0;34m,\u001b[0m \u001b[0mgradient\u001b[0m\u001b[0;34m,\u001b[0m \u001b[0mretain_graph\u001b[0m\u001b[0;34m,\u001b[0m \u001b[0mcreate_graph\u001b[0m\u001b[0;34m)\u001b[0m\u001b[0;34m\u001b[0m\u001b[0;34m\u001b[0m\u001b[0m\n\u001b[0m\u001b[1;32m    103\u001b[0m \u001b[0;34m\u001b[0m\u001b[0m\n\u001b[1;32m    104\u001b[0m     \u001b[0;32mdef\u001b[0m \u001b[0mregister_hook\u001b[0m\u001b[0;34m(\u001b[0m\u001b[0mself\u001b[0m\u001b[0;34m,\u001b[0m \u001b[0mhook\u001b[0m\u001b[0;34m)\u001b[0m\u001b[0;34m:\u001b[0m\u001b[0;34m\u001b[0m\u001b[0;34m\u001b[0m\u001b[0m\n",
      "\u001b[0;32m~/anaconda2/envs/sc/lib/python3.6/site-packages/torch/autograd/__init__.py\u001b[0m in \u001b[0;36mbackward\u001b[0;34m(tensors, grad_tensors, retain_graph, create_graph, grad_variables)\u001b[0m\n\u001b[1;32m     88\u001b[0m     Variable._execution_engine.run_backward(\n\u001b[1;32m     89\u001b[0m         \u001b[0mtensors\u001b[0m\u001b[0;34m,\u001b[0m \u001b[0mgrad_tensors\u001b[0m\u001b[0;34m,\u001b[0m \u001b[0mretain_graph\u001b[0m\u001b[0;34m,\u001b[0m \u001b[0mcreate_graph\u001b[0m\u001b[0;34m,\u001b[0m\u001b[0;34m\u001b[0m\u001b[0;34m\u001b[0m\u001b[0m\n\u001b[0;32m---> 90\u001b[0;31m         allow_unreachable=True)  # allow_unreachable flag\n\u001b[0m\u001b[1;32m     91\u001b[0m \u001b[0;34m\u001b[0m\u001b[0m\n\u001b[1;32m     92\u001b[0m \u001b[0;34m\u001b[0m\u001b[0m\n",
      "\u001b[0;31mKeyboardInterrupt\u001b[0m: "
     ]
    }
   ],
   "source": [
    "# find the common important genes\n",
    "mean_value_ori = np.zeros(20499)\n",
    "\n",
    "for cate_id in range(39):\n",
    "    # analysis NN: backpropogate the gradient of beta and quiescent_stellate \n",
    "    mean_value = np.copy(mean_value_ori)\n",
    "    resulted_values_NN = []\n",
    "    for i in range(100):\n",
    "        t_NN.D.zero_grad()\n",
    "        mean_value_variable = Variable(torch.Tensor(mean_value).view(1, -1).cuda(), requires_grad=True)\n",
    "        act_value = t_NN.D.forward(mean_value_variable)\n",
    "    #     act_value = torch.softmax(act_value, 1)\n",
    "        diff_out = act_value[:,cate_id:cate_id+1]\n",
    "        diff_out.backward()\n",
    "        mean_value_variable.data.add_(mean_value_variable.grad.data)\n",
    "        mean_value = mean_value_variable.data.cpu().numpy()\n",
    "        resulted_values_NN.append(mean_value)\n",
    "\n",
    "    # analysis CDGNN: backpropogate the gradient of beta and quiescent_stellate \n",
    "    mean_value = np.copy(mean_value_ori)\n",
    "    resulted_values_CDGN = []\n",
    "    for i in range(100):\n",
    "        t_CDGN.D.zero_grad()\n",
    "        mean_value_variable = Variable(torch.Tensor(mean_value).view(1, -1).cuda(), requires_grad=True)\n",
    "        act_value, _, _ = t_CDGN.D.forward(mean_value_variable, mean_value_variable)\n",
    "    #     act_value = torch.softmax(act_value, 1)\n",
    "        diff_out = act_value[:,cate_id:cate_id+1]\n",
    "        diff_out.backward()\n",
    "        mean_value_variable.data.add_(mean_value_variable.grad.data)\n",
    "        mean_value = mean_value_variable.data.cpu().numpy()\n",
    "        resulted_values_CDGN.append(mean_value)\n",
    "    \n",
    "    diff_NN = (resulted_values_NN[-1]-mean_value_ori)[0]\n",
    "    diff_NN_ids = np.abs(diff_NN).argsort()[-200:][::-1]\n",
    "    diff_CDGN = (resulted_values_CDGN[-1]-mean_value_ori)[0]\n",
    "    diff_CDGN_ids = np.abs(diff_CDGN).argsort()[-200:][::-1]\n",
    "    if cate_id == 0:\n",
    "        NN_genes = diff_NN_ids\n",
    "        CDGN_genes = diff_CDGN_ids\n",
    "    else:\n",
    "        NN_genes = np.intersect1d(NN_genes, diff_NN_ids)\n",
    "        CDGN_genes = np.intersect1d(CDGN_genes, diff_CDGN_ids)\n",
    "    print(cate_id, NN_genes.shape, CDGN_genes.shape)\n",
    "    "
   ]
  },
  {
   "cell_type": "code",
   "execution_count": null,
   "metadata": {},
   "outputs": [],
   "source": [
    "\n",
    "with open(os.path.join(out_path, '0Diff_%s_%d.txt'%(cell_type, n_genes)), 'w') as fw:\n",
    "    diff_ids = np.setdiff1d(diff_CDGN_ids, diff_NN_ids)\n",
    "    for index in diff_ids:\n",
    "        fw.write('%s\\n'%(gene_names[index]))"
   ]
  }
 ],
 "metadata": {
  "kernelspec": {
   "display_name": "Python 3",
   "language": "python",
   "name": "python3"
  },
  "language_info": {
   "codemirror_mode": {
    "name": "ipython",
    "version": 3
   },
   "file_extension": ".py",
   "mimetype": "text/x-python",
   "name": "python",
   "nbconvert_exporter": "python",
   "pygments_lexer": "ipython3",
   "version": "3.6.8"
  }
 },
 "nbformat": 4,
 "nbformat_minor": 2
}
