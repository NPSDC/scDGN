{
 "cells": [
  {
   "cell_type": "code",
   "execution_count": 1,
   "metadata": {},
   "outputs": [],
   "source": [
    "import os\n",
    "import numpy as np\n",
    "import importlib\n",
    "import torch\n",
    "import matplotlib.pyplot as plt\n",
    "from sklearn.decomposition import PCA\n",
    "from utils.train_util import ClassicTrainer, ADGTrainer\n",
    "from utils.data_util import dataset, dataset_CADG\n",
    "from utils.vis_util import plot_pca_ct, plot_pca_all, plot_pca, extract_rep\n",
    "data_path = 'data/'"
   ]
  },
  {
   "cell_type": "code",
   "execution_count": 2,
   "metadata": {},
   "outputs": [],
   "source": [
    "CAND_COLORS = np.array(['#a6cee3','#1f78b4','#b2df8a','#33a02c','#fb9a99','#e31a1c','#fdbf6f',\n",
    "                '#ff7f00','#cab2d6','#6a3d9a', '#90ee90', '#9B870C', '#2f4554',\n",
    "                '#61a0a8', '#d48265', '#c23531'])"
   ]
  },
  {
   "cell_type": "code",
   "execution_count": 3,
   "metadata": {},
   "outputs": [],
   "source": [
    "?importlib.reload"
   ]
  },
  {
   "cell_type": "markdown",
   "metadata": {},
   "source": [
    "## NN and CDGN"
   ]
  },
  {
   "cell_type": "code",
   "execution_count": 3,
   "metadata": {},
   "outputs": [
    {
     "name": "stdout",
     "output_type": "stream",
     "text": [
      "loading dataset: pancreas1\n",
      "scDGN(\n",
      "  (feature_extractor): Sequential(\n",
      "    (0): Linear(in_features=3000, out_features=1136, bias=True)\n",
      "    (1): Tanh()\n",
      "    (2): Linear(in_features=1136, out_features=100, bias=True)\n",
      "    (3): Tanh()\n",
      "  )\n",
      "  (domain_classifier): Sequential(\n",
      "    (0): Linear(in_features=100, out_features=64, bias=True)\n",
      "    (1): Tanh()\n",
      "  )\n",
      "  (label_classifier): Sequential(\n",
      "    (0): Linear(in_features=100, out_features=13, bias=True)\n",
      "  )\n",
      ")\n"
     ]
    }
   ],
   "source": [
    "#################### Settings ##############################\n",
    "num_epochs = 100\n",
    "batch_size = 256\n",
    "dim1 = 1136\n",
    "dim2 = 100\n",
    "dim_domain = 64\n",
    "#os.environ[\"CUDA_DEVICE_ORDER\"]=\"PCI_BUS_ID\"\n",
    "#os.environ[\"CUDA_VISIBLE_DEVICES\"]=\"1\"\n",
    "data_path = 'data_shuff/scDGN'\n",
    "model_path = 'ckpts/'\n",
    "\n",
    "d_dim = 3000\n",
    "dim_label = 13\n",
    "dataset_name = 'pancreas1'\n",
    "NN_name = 'pancreas1_test_NN'\n",
    "scDGN_name = 'pancreas1_test_CDGN'\n",
    "#id2name = {int(line.rstrip().split('-')[1]):'_'.join(line.split('-')[0].split()[1:]) for line in open('data/scquery.txt').readlines()}\n",
    "\n",
    "\n",
    "#################### Settings ##############################\n",
    "\n",
    "# prepare the dataset\n",
    "#d = dataset(data_path, batch_size, dim_label, dataset_name=dataset_name, validation=False)\n",
    "#domain_names = d.accessions_set\n",
    "d_scDGN = dataset_CADG(data_path, batch_size, label_size=dim_label, dataset_name=dataset_name, validation=False)\n",
    "\n",
    "# load the models\n",
    "# t_NN.dataset = d_NN\n",
    "# t_NN.load_model(os.path.join(model_path, NN_name,'final_model.ckpt')\n",
    "t_scDGN = ADGTrainer(3000, 1, 1, dim1, dim2, 13, 64, 250, 256, model_path)\n",
    "t_scDGN.dataset = d_scDGN\n",
    "t_scDGN.load_model(os.path.join(model_path, scDGN_name,'final_model.ckpt'))"
   ]
  },
  {
   "cell_type": "code",
   "execution_count": 5,
   "metadata": {},
   "outputs": [],
   "source": [
    "# extract the representations\n",
    "#NN_representations, NN_labels, NN_domains = extract_rep(t, d, scDGN=False)\n",
    "scDGN_representations, scDGN_labels, scDGN_domains = extract_rep(t_scDGN, d_scDGN, scDGN=True)"
   ]
  },
  {
   "cell_type": "code",
   "execution_count": 9,
   "metadata": {},
   "outputs": [
    {
     "data": {
      "text/plain": [
       "(2895, 100)"
      ]
     },
     "execution_count": 9,
     "metadata": {},
     "output_type": "execute_result"
    }
   ],
   "source": [
    "scDGN_representations.shape"
   ]
  },
  {
   "cell_type": "code",
   "execution_count": 7,
   "metadata": {},
   "outputs": [
    {
     "ename": "FileNotFoundError",
     "evalue": "[Errno 2] No such file or directory: 'eval/pancreas1/scDGN/pca/'",
     "output_type": "error",
     "traceback": [
      "\u001b[0;31m---------------------------------------------------------------------------\u001b[0m",
      "\u001b[0;31mFileNotFoundError\u001b[0m                         Traceback (most recent call last)",
      "\u001b[0;32m<ipython-input-7-155da0ea5f18>\u001b[0m in \u001b[0;36m<module>\u001b[0;34m\u001b[0m\n\u001b[1;32m      5\u001b[0m \u001b[0;31m#plot_pca_ct(NN_representations, NN_labels, NN_domains, 'NN', expname=dataset_name)\u001b[0m\u001b[0;34m\u001b[0m\u001b[0;34m\u001b[0m\u001b[0;34m\u001b[0m\u001b[0m\n\u001b[1;32m      6\u001b[0m \u001b[0;31m#plot_pca_all(NN_representations, NN_labels, NN_domains, 'NN', expname=dataset_name)\u001b[0m\u001b[0;34m\u001b[0m\u001b[0;34m\u001b[0m\u001b[0;34m\u001b[0m\u001b[0m\n\u001b[0;32m----> 7\u001b[0;31m \u001b[0mplot_pca\u001b[0m\u001b[0;34m(\u001b[0m\u001b[0mscDGN_representations\u001b[0m\u001b[0;34m,\u001b[0m \u001b[0mscDGN_labels\u001b[0m\u001b[0;34m,\u001b[0m \u001b[0mscDGN_domains\u001b[0m\u001b[0;34m,\u001b[0m \u001b[0;34m'scDGN'\u001b[0m\u001b[0;34m,\u001b[0m \u001b[0mexpname\u001b[0m\u001b[0;34m=\u001b[0m\u001b[0mdataset_name\u001b[0m\u001b[0;34m)\u001b[0m\u001b[0;34m\u001b[0m\u001b[0;34m\u001b[0m\u001b[0m\n\u001b[0m\u001b[1;32m      8\u001b[0m \u001b[0mplot_pca_ct\u001b[0m\u001b[0;34m(\u001b[0m\u001b[0mscDGN_representations\u001b[0m\u001b[0;34m,\u001b[0m \u001b[0mscDGN_labels\u001b[0m\u001b[0;34m,\u001b[0m \u001b[0mscDGN_domains\u001b[0m\u001b[0;34m,\u001b[0m \u001b[0;34m'scDGN'\u001b[0m\u001b[0;34m,\u001b[0m \u001b[0mexpname\u001b[0m\u001b[0;34m=\u001b[0m\u001b[0mdataset_name\u001b[0m\u001b[0;34m)\u001b[0m\u001b[0;34m\u001b[0m\u001b[0;34m\u001b[0m\u001b[0m\n\u001b[1;32m      9\u001b[0m \u001b[0mplot_pca_all\u001b[0m\u001b[0;34m(\u001b[0m\u001b[0mscDGN_representations\u001b[0m\u001b[0;34m,\u001b[0m \u001b[0mscDGN_labels\u001b[0m\u001b[0;34m,\u001b[0m \u001b[0mscDGN_domains\u001b[0m\u001b[0;34m,\u001b[0m \u001b[0;34m'scDGN'\u001b[0m\u001b[0;34m,\u001b[0m \u001b[0mexpname\u001b[0m\u001b[0;34m=\u001b[0m\u001b[0mdataset_name\u001b[0m\u001b[0;34m)\u001b[0m\u001b[0;34m\u001b[0m\u001b[0;34m\u001b[0m\u001b[0m\n",
      "\u001b[0;32m~/CML/clone/scDGN/utils/vis_util.py\u001b[0m in \u001b[0;36mplot_pca\u001b[0;34m(representations, labels, domains, modelname, expname, nlabels, cutoff)\u001b[0m\n\u001b[1;32m     67\u001b[0m \u001b[0;32mdef\u001b[0m \u001b[0mplot_pca\u001b[0m\u001b[0;34m(\u001b[0m\u001b[0mrepresentations\u001b[0m\u001b[0;34m,\u001b[0m \u001b[0mlabels\u001b[0m\u001b[0;34m,\u001b[0m \u001b[0mdomains\u001b[0m\u001b[0;34m,\u001b[0m \u001b[0mmodelname\u001b[0m\u001b[0;34m,\u001b[0m \u001b[0mexpname\u001b[0m\u001b[0;34m=\u001b[0m\u001b[0;34m'scquery'\u001b[0m\u001b[0;34m,\u001b[0m \u001b[0mnlabels\u001b[0m\u001b[0;34m=\u001b[0m\u001b[0;36m39\u001b[0m\u001b[0;34m,\u001b[0m \u001b[0mcutoff\u001b[0m\u001b[0;34m=\u001b[0m\u001b[0;36m20\u001b[0m\u001b[0;34m)\u001b[0m\u001b[0;34m:\u001b[0m\u001b[0;34m\u001b[0m\u001b[0;34m\u001b[0m\u001b[0m\n\u001b[1;32m     68\u001b[0m     \u001b[0;32mif\u001b[0m \u001b[0;32mnot\u001b[0m \u001b[0mos\u001b[0m\u001b[0;34m.\u001b[0m\u001b[0mpath\u001b[0m\u001b[0;34m.\u001b[0m\u001b[0mexists\u001b[0m\u001b[0;34m(\u001b[0m\u001b[0;34m'eval/%s/%s/pca/'\u001b[0m\u001b[0;34m%\u001b[0m\u001b[0;34m(\u001b[0m\u001b[0mexpname\u001b[0m\u001b[0;34m,\u001b[0m \u001b[0mmodelname\u001b[0m\u001b[0;34m)\u001b[0m\u001b[0;34m)\u001b[0m\u001b[0;34m:\u001b[0m\u001b[0;34m\u001b[0m\u001b[0;34m\u001b[0m\u001b[0m\n\u001b[0;32m---> 69\u001b[0;31m         \u001b[0mos\u001b[0m\u001b[0;34m.\u001b[0m\u001b[0mmkdir\u001b[0m\u001b[0;34m(\u001b[0m\u001b[0;34m'eval/%s/%s/pca/'\u001b[0m\u001b[0;34m%\u001b[0m\u001b[0;34m(\u001b[0m\u001b[0mexpname\u001b[0m\u001b[0;34m,\u001b[0m \u001b[0mmodelname\u001b[0m\u001b[0;34m)\u001b[0m\u001b[0;34m)\u001b[0m\u001b[0;34m\u001b[0m\u001b[0;34m\u001b[0m\u001b[0m\n\u001b[0m\u001b[1;32m     70\u001b[0m     \u001b[0;32mfor\u001b[0m \u001b[0my_target\u001b[0m \u001b[0;32min\u001b[0m \u001b[0mrange\u001b[0m\u001b[0;34m(\u001b[0m\u001b[0mnlabels\u001b[0m\u001b[0;34m)\u001b[0m\u001b[0;34m:\u001b[0m\u001b[0;34m\u001b[0m\u001b[0;34m\u001b[0m\u001b[0m\n\u001b[1;32m     71\u001b[0m         \u001b[0mindeces\u001b[0m \u001b[0;34m=\u001b[0m \u001b[0mnp\u001b[0m\u001b[0;34m.\u001b[0m\u001b[0mwhere\u001b[0m\u001b[0;34m(\u001b[0m\u001b[0;34m(\u001b[0m\u001b[0mlabels\u001b[0m\u001b[0;34m==\u001b[0m\u001b[0my_target\u001b[0m\u001b[0;34m)\u001b[0m\u001b[0;34m)\u001b[0m\u001b[0;34m[\u001b[0m\u001b[0;36m0\u001b[0m\u001b[0;34m]\u001b[0m\u001b[0;34m\u001b[0m\u001b[0;34m\u001b[0m\u001b[0m\n",
      "\u001b[0;31mFileNotFoundError\u001b[0m: [Errno 2] No such file or directory: 'eval/pancreas1/scDGN/pca/'"
     ]
    }
   ],
   "source": [
    "# if not os.path.exists('eval/%s/'%dataset_name):\n",
    "#     os.mkdir('eval/%s/NN'%dataset_name)\n",
    "#     os.mkdir('eval/%s/scDGn'%dataset_name)\n",
    "#plot_pca(NN_representations, NN_labels, NN_domains, 'NN', expname=dataset_name)\n",
    "#plot_pca_ct(NN_representations, NN_labels, NN_domains, 'NN', expname=dataset_name)\n",
    "#plot_pca_all(NN_representations, NN_labels, NN_domains, 'NN', expname=dataset_name)\n",
    "plot_pca(scDGN_representations, scDGN_labels, scDGN_domains, 'scDGN', expname=dataset_name)\n",
    "plot_pca_ct(scDGN_representations, scDGN_labels, scDGN_domains, 'scDGN', expname=dataset_name)\n",
    "plot_pca_all(scDGN_representations, scDGN_labels, scDGN_domains, 'scDGN', expname=dataset_name)"
   ]
  }
 ],
 "metadata": {
  "kernelspec": {
   "display_name": "Python 3",
   "language": "python",
   "name": "python3"
  },
  "language_info": {
   "codemirror_mode": {
    "name": "ipython",
    "version": 3
   },
   "file_extension": ".py",
   "mimetype": "text/x-python",
   "name": "python",
   "nbconvert_exporter": "python",
   "pygments_lexer": "ipython3",
   "version": "3.7.4"
  }
 },
 "nbformat": 4,
 "nbformat_minor": 2
}
